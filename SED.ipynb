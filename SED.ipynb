{
  "nbformat": 4,
  "nbformat_minor": 5,
  "metadata": {
    "kernelspec": {
      "display_name": "nip",
      "language": "python",
      "name": "dnd-sed"
    },
    "language_info": {
      "codemirror_mode": {
        "name": "ipython",
        "version": 3
      },
      "file_extension": ".py",
      "mimetype": "text/x-python",
      "name": "python",
      "nbconvert_exporter": "python",
      "pygments_lexer": "ipython3",
      "version": "3.7.5"
    },
    "colab": {
      "name": "SED.ipynb",
      "provenance": [],
      "collapsed_sections": []
    }
  },
  "cells": [
    {
      "cell_type": "code",
      "metadata": {
        "colab": {
          "base_uri": "https://localhost:8080/"
        },
        "id": "dc582ec9",
        "outputId": "d267d859-d7df-4c42-f19a-b782a7bd245c"
      },
      "source": [
        "!pip install torchaudio"
      ],
      "id": "dc582ec9",
      "execution_count": null,
      "outputs": [
        {
          "output_type": "stream",
          "text": [
            "Collecting torchaudio\n",
            "\u001b[?25l  Downloading https://files.pythonhosted.org/packages/aa/55/01ad9244bcd595e39cea5ce30726a7fe02fd963d07daeb136bfe7e23f0a5/torchaudio-0.8.1-cp37-cp37m-manylinux1_x86_64.whl (1.9MB)\n",
            "\u001b[K     |████████████████████████████████| 1.9MB 7.7MB/s \n",
            "\u001b[?25hRequirement already satisfied: torch==1.8.1 in /usr/local/lib/python3.7/dist-packages (from torchaudio) (1.8.1+cu101)\n",
            "Requirement already satisfied: numpy in /usr/local/lib/python3.7/dist-packages (from torch==1.8.1->torchaudio) (1.19.5)\n",
            "Requirement already satisfied: typing-extensions in /usr/local/lib/python3.7/dist-packages (from torch==1.8.1->torchaudio) (3.7.4.3)\n",
            "Installing collected packages: torchaudio\n",
            "Successfully installed torchaudio-0.8.1\n"
          ],
          "name": "stdout"
        }
      ]
    },
    {
      "cell_type": "code",
      "metadata": {
        "id": "d6c09776"
      },
      "source": [
        "import torch\n",
        "import torchaudio\n",
        "from torchaudio import functional as F\n",
        "from torchaudio import transforms as T"
      ],
      "id": "d6c09776",
      "execution_count": null,
      "outputs": []
    },
    {
      "cell_type": "code",
      "metadata": {
        "id": "bbf21aae"
      },
      "source": [
        "torchaudio.set_audio_backend(\"sox_io\")"
      ],
      "id": "bbf21aae",
      "execution_count": null,
      "outputs": []
    },
    {
      "cell_type": "code",
      "metadata": {
        "id": "a7d44be8"
      },
      "source": [
        "hop_length = 882\n",
        "n_fft = hop_length * 2 # 1024 * 2\n",
        "n_mels = 40\n",
        "normalized = False\n",
        "\n",
        "sample_rate = 44100\n",
        "power = 1.0"
      ],
      "id": "a7d44be8",
      "execution_count": null,
      "outputs": []
    },
    {
      "cell_type": "code",
      "metadata": {
        "id": "9a0f8520"
      },
      "source": [
        "sample_rate = 44100\n",
        "power = 1.0"
      ],
      "id": "9a0f8520",
      "execution_count": null,
      "outputs": []
    },
    {
      "cell_type": "code",
      "metadata": {
        "id": "c1377bb0"
      },
      "source": [
        "mel_spectrogram = T.MelSpectrogram(\n",
        "    sample_rate=sample_rate,\n",
        "    n_fft=n_fft,\n",
        "    # win_length=2*hop_length,\n",
        "    hop_length=hop_length,\n",
        "    f_min=0,\n",
        "    f_max=sample_rate//2,\n",
        "    n_mels=n_mels,\n",
        "    power=power,\n",
        "    window_fn=torch.hamming_window,\n",
        "    normalized=normalized\n",
        ")"
      ],
      "id": "c1377bb0",
      "execution_count": null,
      "outputs": []
    },
    {
      "cell_type": "code",
      "metadata": {
        "id": "0e45b395"
      },
      "source": [
        "# path = './data/synthetic/train'"
      ],
      "id": "0e45b395",
      "execution_count": null,
      "outputs": []
    },
    {
      "cell_type": "code",
      "metadata": {
        "id": "9064d695"
      },
      "source": [
        "# file = '/TUT-SED-synthetic-2016-mix-1.wav'"
      ],
      "id": "9064d695",
      "execution_count": null,
      "outputs": []
    },
    {
      "cell_type": "code",
      "metadata": {
        "id": "4M6bYLnJEVQ9"
      },
      "source": [
        "#@title Folgend: Entweder files.upload nutzen oder drive mounten und dann den file path angeben"
      ],
      "id": "4M6bYLnJEVQ9",
      "execution_count": null,
      "outputs": []
    },
    {
      "cell_type": "code",
      "metadata": {
        "colab": {
          "base_uri": "https://localhost:8080/"
        },
        "id": "n1LZeEu4EF6L",
        "outputId": "634617a2-255e-4d6a-be2c-06a72d29e32c"
      },
      "source": [
        "from google.colab import drive\n",
        "drive.mount('/content/drive', force_remount=True)"
      ],
      "id": "n1LZeEu4EF6L",
      "execution_count": null,
      "outputs": [
        {
          "output_type": "stream",
          "text": [
            "Mounted at /content/drive\n"
          ],
          "name": "stdout"
        }
      ]
    },
    {
      "cell_type": "code",
      "metadata": {
        "colab": {
          "base_uri": "https://localhost:8080/"
        },
        "id": "rvPXhwp_IVde",
        "outputId": "42018501-8c2a-40b9-b43d-e36841d0f160"
      },
      "source": [
        "%cd drive/MyDrive/Data_Code"
      ],
      "id": "rvPXhwp_IVde",
      "execution_count": null,
      "outputs": [
        {
          "output_type": "stream",
          "text": [
            "/content/drive/.shortcut-targets-by-id/1nC9alf1XXss0MliDJ7UIwgKnGiUiWn01/Data_Code\n"
          ],
          "name": "stdout"
        }
      ]
    },
    {
      "cell_type": "code",
      "metadata": {
        "colab": {
          "base_uri": "https://localhost:8080/"
        },
        "id": "_TYWjbjNFzwf",
        "outputId": "c8ff9577-768a-4a08-ba78-f3386183125e"
      },
      "source": [
        "!ls"
      ],
      "id": "_TYWjbjNFzwf",
      "execution_count": null,
      "outputs": [
        {
          "output_type": "stream",
          "text": [
            "conda_dependencies.yml\texperiments  models\t\t   settings\n",
            "data\t\t\tLICENSE      pip_dependencies.txt  tools\n",
            "data_feeders\t\tmain.py      README.md\n"
          ],
          "name": "stdout"
        }
      ]
    },
    {
      "cell_type": "code",
      "metadata": {
        "id": "zAm4s7bjIaJt"
      },
      "source": [
        "file = './data/2_5/audio/TUT-SED-synthetic-2016-mix-1.wav'"
      ],
      "id": "zAm4s7bjIaJt",
      "execution_count": null,
      "outputs": []
    },
    {
      "cell_type": "code",
      "metadata": {
        "id": "c65602f9"
      },
      "source": [
        "# waveform, sample_rate = torchaudio.load(path + file)\n",
        "waveform, sample_rate = torchaudio.load(file)"
      ],
      "id": "c65602f9",
      "execution_count": null,
      "outputs": []
    },
    {
      "cell_type": "code",
      "metadata": {
        "colab": {
          "base_uri": "https://localhost:8080/"
        },
        "id": "e426a68b",
        "outputId": "745cbf97-b25c-4c75-9144-a8eefccb079a"
      },
      "source": [
        "waveform.shape, sample_rate"
      ],
      "id": "e426a68b",
      "execution_count": null,
      "outputs": [
        {
          "output_type": "execute_result",
          "data": {
            "text/plain": [
              "(torch.Size([1, 17667342]), 44100)"
            ]
          },
          "metadata": {
            "tags": []
          },
          "execution_count": 11
        }
      ]
    },
    {
      "cell_type": "code",
      "metadata": {
        "id": "1907363c"
      },
      "source": [
        "mel = torch.log(mel_spectrogram(waveform))"
      ],
      "id": "1907363c",
      "execution_count": null,
      "outputs": []
    },
    {
      "cell_type": "code",
      "metadata": {
        "id": "199a424f"
      },
      "source": [
        "mel = mel.permute(0, 2, 1)"
      ],
      "id": "199a424f",
      "execution_count": null,
      "outputs": []
    },
    {
      "cell_type": "code",
      "metadata": {
        "colab": {
          "base_uri": "https://localhost:8080/"
        },
        "id": "XMVv-WhMLYEg",
        "outputId": "a94f64de-eab6-474d-e4e4-f9e86562f916"
      },
      "source": [
        "mel.shape"
      ],
      "id": "XMVv-WhMLYEg",
      "execution_count": null,
      "outputs": [
        {
          "output_type": "execute_result",
          "data": {
            "text/plain": [
              "torch.Size([1, 20032, 40])"
            ]
          },
          "metadata": {
            "tags": []
          },
          "execution_count": 14
        }
      ]
    },
    {
      "cell_type": "code",
      "metadata": {
        "id": "0e6e8648"
      },
      "source": [
        "cnn_channels = 128\n",
        "cnn_dropout = .25\n",
        "rnn_in_dim = cnn_channels\n",
        "rnn_out_dim = 128\n",
        "nb_classes = 16"
      ],
      "id": "0e6e8648",
      "execution_count": null,
      "outputs": []
    },
    {
      "cell_type": "code",
      "metadata": {
        "id": "e6915e9f"
      },
      "source": [
        "from models import crnn"
      ],
      "id": "e6915e9f",
      "execution_count": null,
      "outputs": []
    },
    {
      "cell_type": "code",
      "metadata": {
        "id": "d5682ed7"
      },
      "source": [
        "crnn = crnn.CRNN(cnn_channels,\n",
        "        cnn_dropout,\n",
        "        rnn_in_dim,\n",
        "        rnn_out_dim,\n",
        "        nb_classes)"
      ],
      "id": "d5682ed7",
      "execution_count": null,
      "outputs": []
    },
    {
      "cell_type": "code",
      "metadata": {
        "id": "oESsHBa9I1h_"
      },
      "source": [
        "# yhat = crnn(mel)"
      ],
      "id": "oESsHBa9I1h_",
      "execution_count": null,
      "outputs": []
    },
    {
      "cell_type": "code",
      "metadata": {
        "id": "oH0XQ39uI57f"
      },
      "source": [
        "# yhat.shape"
      ],
      "id": "oH0XQ39uI57f",
      "execution_count": null,
      "outputs": []
    },
    {
      "cell_type": "code",
      "metadata": {
        "id": "BWKXY4GIJEBl"
      },
      "source": [
        "# yhat[0][:10, :]"
      ],
      "id": "BWKXY4GIJEBl",
      "execution_count": null,
      "outputs": []
    },
    {
      "cell_type": "code",
      "metadata": {
        "id": "2yy8SDL9JIDT"
      },
      "source": [
        "import pickle"
      ],
      "id": "2yy8SDL9JIDT",
      "execution_count": null,
      "outputs": []
    },
    {
      "cell_type": "code",
      "metadata": {
        "id": "9O2MxzJoJY_q"
      },
      "source": [
        "input_features = './data/mel_energies/features/TUT-SED-synthetic-2016-mix-1.cpickle'"
      ],
      "id": "9O2MxzJoJY_q",
      "execution_count": null,
      "outputs": []
    },
    {
      "cell_type": "code",
      "metadata": {
        "id": "w7iOXusRJr9L"
      },
      "source": [
        "with open(input_features, 'rb') as f:\n",
        "  mel = pickle.load(f, encoding='latin1')"
      ],
      "id": "w7iOXusRJr9L",
      "execution_count": null,
      "outputs": []
    },
    {
      "cell_type": "code",
      "metadata": {
        "colab": {
          "base_uri": "https://localhost:8080/"
        },
        "id": "eOHXATDoKJhK",
        "outputId": "4c9dbcc7-fd0a-4e03-e528-054971d1239d"
      },
      "source": [
        "mel # : dict"
      ],
      "id": "eOHXATDoKJhK",
      "execution_count": null,
      "outputs": [
        {
          "output_type": "execute_result",
          "data": {
            "text/plain": [
              "{'feat': [array([[-10.34508092,  -9.63420605,  -9.3785564 , ...,  -7.38586424,\n",
              "           -7.32913153,  -8.56749136],\n",
              "         [-10.72728893,  -9.34900159,  -8.84533813, ...,  -8.05704906,\n",
              "           -8.11169866,  -8.85618467],\n",
              "         [-10.54756438,  -9.01082562,  -8.4896992 , ...,  -7.44385633,\n",
              "           -7.42815323,  -8.27178612],\n",
              "         ...,\n",
              "         [-34.7840923 , -36.04365339, -36.04365339, ..., -36.04365339,\n",
              "          -36.04365339, -36.04365339],\n",
              "         [-34.7840923 , -36.04365339, -36.04365339, ..., -36.04365339,\n",
              "          -36.04365339, -36.04365339],\n",
              "         [-34.7840923 , -36.04365339, -36.04365339, ..., -36.04365339,\n",
              "          -36.04365339, -36.04365339]])],\n",
              " 'stat': [{'N': 20032,\n",
              "   'S1': array([-115259.11952206, -102731.14337977, -101188.15576885,\n",
              "          -102706.28861838, -101119.99394221,  -98423.85433891,\n",
              "           -99572.34617272, -100621.21130485,  -99750.65733763,\n",
              "          -100285.19488904, -101921.25185569, -101351.8296574 ,\n",
              "          -102149.73888593, -104945.11075273, -105879.02824523,\n",
              "          -106735.0252128 , -108225.64935788, -108079.9835606 ,\n",
              "          -111619.99148077, -114401.27863348, -114600.74101903,\n",
              "          -114546.69612494, -117305.91399922, -120140.72798064,\n",
              "          -121946.35054533, -125105.11433334, -126878.13684931,\n",
              "          -129095.31803035, -132240.13943669, -135002.66221495,\n",
              "          -138737.91870563, -139321.47582931, -142471.98664526,\n",
              "          -145670.24563014, -150795.63704868, -156210.02847413,\n",
              "          -158532.60455277, -162592.83177623, -168196.82905313,\n",
              "          -179933.78118904]),\n",
              "   'S2': array([1244998.05920888, 1181151.31732999, 1164846.05856662,\n",
              "          1170258.78072294, 1151432.00235818, 1130007.87588585,\n",
              "          1138978.29967484, 1146558.67220817, 1141205.48909274,\n",
              "          1144454.01570959, 1159126.98142754, 1160531.18337125,\n",
              "          1170271.84279308, 1188248.80380541, 1197545.40587237,\n",
              "          1205595.30182248, 1218866.45417213, 1223003.44817597,\n",
              "          1250687.85002145, 1274151.84000235, 1278498.37777474,\n",
              "          1280996.96914024, 1304986.63794646, 1330556.28227279,\n",
              "          1348725.50600488, 1379247.07016735, 1400004.02767924,\n",
              "          1430452.60382795, 1471238.80397631, 1507319.00084978,\n",
              "          1552869.55197434, 1572512.36396214, 1615149.43632797,\n",
              "          1654918.21519759, 1716040.14605202, 1780924.91420759,\n",
              "          1809522.62039793, 1874429.08566614, 1953167.75445698,\n",
              "          2134724.14034413]),\n",
              "   'mean': array([-5.75374998, -5.12835181, -5.05132567, -5.12711105, -5.04792302,\n",
              "          -4.91333139, -4.97066425, -5.02302373, -4.97956556, -5.00624974,\n",
              "          -5.08792192, -5.05949629, -5.09932802, -5.23887334, -5.28549462,\n",
              "          -5.3282261 , -5.40263825, -5.39536659, -5.57208424, -5.71092645,\n",
              "          -5.72088364, -5.71818571, -5.85592622, -5.99744049, -6.0875774 ,\n",
              "          -6.2452633 , -6.33377281, -6.44445477, -6.60144466, -6.73935015,\n",
              "          -6.92581463, -6.95494588, -7.11221978, -7.27187728, -7.52773747,\n",
              "          -7.79802458, -7.91396788, -8.11665494, -8.3964072 , -8.98231735]),\n",
              "   'std': array([5.38932495, 5.71517563, 5.71256274, 5.66852716, 5.65668683,\n",
              "          5.68060844, 5.67013573, 5.65734815, 5.67212929, 5.66292806,\n",
              "          5.65480482, 5.68641911, 5.69359058, 5.64550602, 5.64315216,\n",
              "          5.63857058, 5.62649706, 5.65177032, 5.60235437, 5.56696881,\n",
              "          5.57622568, 5.59015962, 5.5545682 , 5.51835548, 5.50181343,\n",
              "          5.46341252, 5.45634512, 5.46602044, 5.46492063, 5.46138414,\n",
              "          5.43622462, 5.48896584, 5.48131335, 5.45284601, 5.3849895 ,\n",
              "          5.30045393, 5.26314667, 5.26228582, 5.19641511, 5.08760031])}]}"
            ]
          },
          "metadata": {
            "tags": []
          },
          "execution_count": 36
        }
      ]
    },
    {
      "cell_type": "code",
      "metadata": {
        "colab": {
          "base_uri": "https://localhost:8080/"
        },
        "id": "XxyUVj04KQzq",
        "outputId": "af67fc48-17a1-4450-fcb0-1ae78b998a1c"
      },
      "source": [
        "mel['feat'][0].shape"
      ],
      "id": "XxyUVj04KQzq",
      "execution_count": null,
      "outputs": [
        {
          "output_type": "execute_result",
          "data": {
            "text/plain": [
              "(20032, 40)"
            ]
          },
          "metadata": {
            "tags": []
          },
          "execution_count": 28
        }
      ]
    },
    {
      "cell_type": "code",
      "metadata": {
        "id": "qwXLP3KseABz"
      },
      "source": [
        "num_frames = mel['feat'][0].shape[0]"
      ],
      "id": "qwXLP3KseABz",
      "execution_count": null,
      "outputs": []
    },
    {
      "cell_type": "code",
      "metadata": {
        "id": "-TxMfYRIdtw2"
      },
      "source": [
        "y = torch.randint(0, 2, (1, num_frames, nb_classes)).float()"
      ],
      "id": "-TxMfYRIdtw2",
      "execution_count": null,
      "outputs": []
    },
    {
      "cell_type": "code",
      "metadata": {
        "id": "kWn5CdQBSOej"
      },
      "source": [
        "# apparently not working with GPU at the moment\n",
        "\n",
        "# if torch.cuda.is_available():\n",
        "#   device = torch.device(\"cuda\")\n",
        "# else:\n",
        "#   device = torch.device(\"cpu\")\n",
        "device = 'cpu'"
      ],
      "id": "kWn5CdQBSOej",
      "execution_count": null,
      "outputs": []
    },
    {
      "cell_type": "code",
      "metadata": {
        "id": "Lp-bI7VDKbeX"
      },
      "source": [
        "mels = torch.Tensor(mel['feat'][0])"
      ],
      "id": "Lp-bI7VDKbeX",
      "execution_count": null,
      "outputs": []
    },
    {
      "cell_type": "code",
      "metadata": {
        "id": "VaZGtgCMSP5K"
      },
      "source": [
        "mels = mels.to(device)"
      ],
      "id": "VaZGtgCMSP5K",
      "execution_count": null,
      "outputs": []
    },
    {
      "cell_type": "code",
      "metadata": {
        "id": "29u0MMRQKlib"
      },
      "source": [
        "mels = mels[None, :, :]"
      ],
      "id": "29u0MMRQKlib",
      "execution_count": null,
      "outputs": []
    },
    {
      "cell_type": "code",
      "metadata": {
        "colab": {
          "base_uri": "https://localhost:8080/"
        },
        "id": "vGM3xzFNSkyp",
        "outputId": "fa768e3a-ec47-4ed1-bcbe-e6252c91774f"
      },
      "source": [
        "mels.device"
      ],
      "id": "vGM3xzFNSkyp",
      "execution_count": null,
      "outputs": [
        {
          "output_type": "execute_result",
          "data": {
            "text/plain": [
              "device(type='cpu')"
            ]
          },
          "metadata": {
            "tags": []
          },
          "execution_count": 33
        }
      ]
    },
    {
      "cell_type": "code",
      "metadata": {
        "colab": {
          "base_uri": "https://localhost:8080/"
        },
        "id": "MhkVDiSLLApv",
        "outputId": "3beb4624-292d-4a04-c0d3-656127379f35"
      },
      "source": [
        "mels.shape, mels.dtype"
      ],
      "id": "MhkVDiSLLApv",
      "execution_count": null,
      "outputs": [
        {
          "output_type": "execute_result",
          "data": {
            "text/plain": [
              "(torch.Size([1, 20032, 40]), torch.float32)"
            ]
          },
          "metadata": {
            "tags": []
          },
          "execution_count": 34
        }
      ]
    },
    {
      "cell_type": "code",
      "metadata": {
        "id": "O5elds35KmbT"
      },
      "source": [
        "# 1st run, no training\n",
        "yhat = crnn(mels)"
      ],
      "id": "O5elds35KmbT",
      "execution_count": null,
      "outputs": []
    },
    {
      "cell_type": "code",
      "metadata": {
        "colab": {
          "base_uri": "https://localhost:8080/"
        },
        "id": "MRjpBEf-LnxA",
        "outputId": "eea4e99a-ad89-4581-dede-77b7480e1292"
      },
      "source": [
        "yhat"
      ],
      "id": "MRjpBEf-LnxA",
      "execution_count": null,
      "outputs": [
        {
          "output_type": "execute_result",
          "data": {
            "text/plain": [
              "tensor([[[ 0.4776, -0.7150,  0.5877,  ..., -0.0171,  0.1392, -0.2506],\n",
              "         [ 0.4710, -0.8152,  0.8156,  ...,  0.2151,  0.2985, -0.4244],\n",
              "         [ 0.2393, -0.5635,  0.7400,  ..., -0.1045,  0.1204, -0.4307],\n",
              "         ...,\n",
              "         [ 0.3173, -0.0832,  1.1805,  ...,  0.1430,  0.8026, -0.6828],\n",
              "         [ 0.6399, -0.3437,  1.5739,  ..., -0.0797,  0.8009, -1.3000],\n",
              "         [ 0.6268, -0.0289,  1.2110,  ..., -0.0760,  0.5619, -0.7931]]],\n",
              "       grad_fn=<CopySlices>)"
            ]
          },
          "metadata": {
            "tags": []
          },
          "execution_count": 46
        }
      ]
    },
    {
      "cell_type": "code",
      "metadata": {
        "colab": {
          "base_uri": "https://localhost:8080/"
        },
        "id": "eJ2I3iMEQQV4",
        "outputId": "6cc109cb-608b-4afc-ec6f-4f6cc29b78ff"
      },
      "source": [
        "yhat.shape"
      ],
      "id": "eJ2I3iMEQQV4",
      "execution_count": null,
      "outputs": [
        {
          "output_type": "execute_result",
          "data": {
            "text/plain": [
              "torch.Size([1, 20032, 16])"
            ]
          },
          "metadata": {
            "tags": []
          },
          "execution_count": 47
        }
      ]
    },
    {
      "cell_type": "code",
      "metadata": {
        "id": "m3yiMGO7Qnkb"
      },
      "source": [
        "# loss"
      ],
      "id": "m3yiMGO7Qnkb",
      "execution_count": null,
      "outputs": []
    },
    {
      "cell_type": "code",
      "metadata": {
        "id": "Vv6zIR0_Z_1P"
      },
      "source": [
        "objective = torch.nn.BCEWithLogitsLoss()"
      ],
      "id": "Vv6zIR0_Z_1P",
      "execution_count": null,
      "outputs": []
    },
    {
      "cell_type": "code",
      "metadata": {
        "colab": {
          "base_uri": "https://localhost:8080/"
        },
        "id": "FLiWulkhcgZo",
        "outputId": "c26a1e03-a38a-43de-f3c7-6b002af37682"
      },
      "source": [
        "objective(yhat, y)"
      ],
      "id": "FLiWulkhcgZo",
      "execution_count": null,
      "outputs": [
        {
          "output_type": "execute_result",
          "data": {
            "text/plain": [
              "tensor(0.6976, grad_fn=<BinaryCrossEntropyWithLogitsBackward>)"
            ]
          },
          "metadata": {
            "tags": []
          },
          "execution_count": 49
        }
      ]
    },
    {
      "cell_type": "code",
      "metadata": {
        "id": "rDjLIj3PdcO5"
      },
      "source": [
        "# one sample trainig"
      ],
      "id": "rDjLIj3PdcO5",
      "execution_count": null,
      "outputs": []
    },
    {
      "cell_type": "code",
      "metadata": {
        "id": "mMktrQEER4qO"
      },
      "source": [
        "opt = torch.optim.Adam(crnn.parameters(), lr=1e-3)"
      ],
      "id": "mMktrQEER4qO",
      "execution_count": null,
      "outputs": []
    },
    {
      "cell_type": "code",
      "metadata": {
        "id": "EMAhBNW2ekhj"
      },
      "source": [
        "crnn.train()\n",
        "loss = objective(yhat, y)\n",
        "loss.backward()\n",
        "opt.step()\n",
        "opt.zero_grad()"
      ],
      "id": "EMAhBNW2ekhj",
      "execution_count": null,
      "outputs": []
    },
    {
      "cell_type": "code",
      "metadata": {
        "id": "iy3UPuH1g0fo"
      },
      "source": [
        "yhat2 = crnn(mels)"
      ],
      "id": "iy3UPuH1g0fo",
      "execution_count": null,
      "outputs": []
    },
    {
      "cell_type": "code",
      "metadata": {
        "colab": {
          "base_uri": "https://localhost:8080/"
        },
        "id": "-PEBon5Te3Wu",
        "outputId": "23957c7a-9250-4bd7-fad0-6e615c2528a7"
      },
      "source": [
        "yhat, yhat2"
      ],
      "id": "-PEBon5Te3Wu",
      "execution_count": null,
      "outputs": [
        {
          "output_type": "execute_result",
          "data": {
            "text/plain": [
              "(tensor([[[ 0.0074,  0.1381, -0.0708,  ..., -0.3550,  0.2687, -0.2061],\n",
              "          [-0.0169,  0.1518, -0.2288,  ..., -0.2907,  0.4380, -0.4196],\n",
              "          [-0.2073,  0.2670, -0.4235,  ...,  0.0873,  0.4596, -0.3028],\n",
              "          ...,\n",
              "          [-0.2720,  0.6026, -0.0327,  ..., -0.3524,  0.8190,  0.1385],\n",
              "          [ 0.1259,  0.7443, -0.7129,  ..., -0.5341,  1.1615, -0.0986],\n",
              "          [-0.4370,  0.6316, -0.6828,  ..., -0.2948,  0.6574,  0.0221]]],\n",
              "        grad_fn=<CopySlices>),\n",
              " tensor([[[-0.2373,  0.1826,  0.2778,  ...,  0.0718, -0.0807, -0.0360],\n",
              "          [-0.5229,  0.1505,  0.0450,  ...,  0.0090,  0.1983, -0.0247],\n",
              "          [-0.5722,  0.2954, -0.2117,  ...,  0.0376,  0.4354, -0.0147],\n",
              "          ...,\n",
              "          [-1.0547,  0.4844, -0.4353,  ..., -0.1546, -0.1553,  0.1130],\n",
              "          [ 0.1983,  0.4897, -0.1870,  ...,  0.2150,  0.0329, -0.0563],\n",
              "          [-0.0783,  0.5504, -0.2511,  ..., -0.4022, -0.0980, -0.1442]]],\n",
              "        grad_fn=<CopySlices>))"
            ]
          },
          "metadata": {
            "tags": []
          },
          "execution_count": 54
        }
      ]
    },
    {
      "cell_type": "code",
      "metadata": {
        "id": "UomitTbphAsK"
      },
      "source": [
        ""
      ],
      "id": "UomitTbphAsK",
      "execution_count": null,
      "outputs": []
    }
  ]
}