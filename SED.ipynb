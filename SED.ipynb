{
  "nbformat": 4,
  "nbformat_minor": 5,
  "metadata": {
    "kernelspec": {
      "name": "python3",
      "display_name": "Python 3"
    },
    "colab": {
      "name": "SED.ipynb",
      "provenance": [],
      "collapsed_sections": [],
      "include_colab_link": true
    },
    "language_info": {
      "name": "python"
    },
    "accelerator": "GPU"
  },
  "cells": [
    {
      "cell_type": "markdown",
      "metadata": {
        "id": "view-in-github",
        "colab_type": "text"
      },
      "source": [
        "<a href=\"https://colab.research.google.com/github/wiebkepeters/NI_PJ_AED/blob/dataloading/SED.ipynb\" target=\"_parent\"><img src=\"https://colab.research.google.com/assets/colab-badge.svg\" alt=\"Open In Colab\"/></a>"
      ]
    },
    {
      "cell_type": "code",
      "metadata": {
        "colab": {
          "base_uri": "https://localhost:8080/"
        },
        "id": "dc582ec9",
        "outputId": "fb9def09-4176-41bf-b8cc-012c7e30a152"
      },
      "source": [
        "!pip install torchaudio"
      ],
      "id": "dc582ec9",
      "execution_count": 1,
      "outputs": [
        {
          "output_type": "stream",
          "text": [
            "Collecting torchaudio\n",
            "\u001b[?25l  Downloading https://files.pythonhosted.org/packages/aa/55/01ad9244bcd595e39cea5ce30726a7fe02fd963d07daeb136bfe7e23f0a5/torchaudio-0.8.1-cp37-cp37m-manylinux1_x86_64.whl (1.9MB)\n",
            "\u001b[K     |████████████████████████████████| 1.9MB 6.8MB/s \n",
            "\u001b[?25hRequirement already satisfied: torch==1.8.1 in /usr/local/lib/python3.7/dist-packages (from torchaudio) (1.8.1+cu101)\n",
            "Requirement already satisfied: typing-extensions in /usr/local/lib/python3.7/dist-packages (from torch==1.8.1->torchaudio) (3.7.4.3)\n",
            "Requirement already satisfied: numpy in /usr/local/lib/python3.7/dist-packages (from torch==1.8.1->torchaudio) (1.19.5)\n",
            "Installing collected packages: torchaudio\n",
            "Successfully installed torchaudio-0.8.1\n"
          ],
          "name": "stdout"
        }
      ]
    },
    {
      "cell_type": "code",
      "metadata": {
        "id": "d6c09776"
      },
      "source": [
        "import torch\n",
        "import torchaudio\n",
        "from torchaudio import functional as F\n",
        "from torchaudio import transforms as T"
      ],
      "id": "d6c09776",
      "execution_count": 2,
      "outputs": []
    },
    {
      "cell_type": "code",
      "metadata": {
        "id": "bbf21aae"
      },
      "source": [
        "torchaudio.set_audio_backend(\"sox_io\")"
      ],
      "id": "bbf21aae",
      "execution_count": 3,
      "outputs": []
    },
    {
      "cell_type": "markdown",
      "metadata": {
        "id": "Y44KJ44oal4J"
      },
      "source": [
        "**2. MOUNT DRIVE AND CD TO ACCESS DATA (AND FILES IF NOT LOADED FROM REPO))**"
      ],
      "id": "Y44KJ44oal4J"
    },
    {
      "cell_type": "code",
      "metadata": {
        "colab": {
          "base_uri": "https://localhost:8080/"
        },
        "id": "n1LZeEu4EF6L",
        "outputId": "0823f59f-7abb-4601-bbbb-a2450160afc4"
      },
      "source": [
        "from google.colab import drive\n",
        "drive.mount('/content/drive', force_remount=True)"
      ],
      "id": "n1LZeEu4EF6L",
      "execution_count": 4,
      "outputs": [
        {
          "output_type": "stream",
          "text": [
            "Mounted at /content/drive\n"
          ],
          "name": "stdout"
        }
      ]
    },
    {
      "cell_type": "code",
      "metadata": {
        "colab": {
          "base_uri": "https://localhost:8080/"
        },
        "id": "xr7zPndWwNEH",
        "outputId": "0b50ba9b-fb69-44a1-984d-e77a6f1f4d27"
      },
      "source": [
        "%cd /content/drive/MyDrive/Data_Code/"
      ],
      "id": "xr7zPndWwNEH",
      "execution_count": 5,
      "outputs": [
        {
          "output_type": "stream",
          "text": [
            "/content/drive/.shortcut-targets-by-id/1nC9alf1XXss0MliDJ7UIwgKnGiUiWn01/Data_Code\n"
          ],
          "name": "stdout"
        }
      ]
    },
    {
      "cell_type": "markdown",
      "metadata": {
        "id": "wvTnP_6iTp0f"
      },
      "source": [
        "**not working yet** *( 1. UPLOAD NEEDED FILES (.py, etc.) AND MIMIC FOLDER STRUCTURE OF REPO (EDIT/ADAPT UPLOADS IF NECESSARY) IF FILES NEED TO BE LOADED FROM REPO (NOT DRIVE) )*"
      ],
      "id": "wvTnP_6iTp0f"
    },
    {
      "cell_type": "code",
      "metadata": {
        "id": "UpRf0Yu-Ud7G"
      },
      "source": [
        "# edit if necessary\n",
        "directories = ['data_feeders', 'experiments', 'models', 'settings', 'tools']"
      ],
      "id": "UpRf0Yu-Ud7G",
      "execution_count": null,
      "outputs": []
    },
    {
      "cell_type": "code",
      "metadata": {
        "colab": {
          "resources": {
            "http://localhost:8080/nbextensions/google.colab/files.js": {
              "data": "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",
              "ok": true,
              "headers": [
                [
                  "content-type",
                  "application/javascript"
                ]
              ],
              "status": 200,
              "status_text": ""
            }
          },
          "base_uri": "https://localhost:8080/",
          "height": 1000
        },
        "id": "PJky7zxqPjTd",
        "outputId": "c861c01e-1f2f-4aa0-d291-a57d0567b0bf"
      },
      "source": [
        "from google.colab import files\n",
        "\n",
        "# upload directory by directory \n",
        "for dir in directories:\n",
        "  print('uploading to ' + dir)\n",
        "  !mkdir $dir\n",
        "  uploaded = files.upload()\n",
        "  !mv *.* $dir"
      ],
      "id": "PJky7zxqPjTd",
      "execution_count": null,
      "outputs": [
        {
          "output_type": "stream",
          "text": [
            "uploading to data_feeders\n"
          ],
          "name": "stdout"
        },
        {
          "output_type": "display_data",
          "data": {
            "text/html": [
              "\n",
              "     <input type=\"file\" id=\"files-64e8fa5b-1ad6-441c-81ae-b0119f2353be\" name=\"files[]\" multiple disabled\n",
              "        style=\"border:none\" />\n",
              "     <output id=\"result-64e8fa5b-1ad6-441c-81ae-b0119f2353be\">\n",
              "      Upload widget is only available when the cell has been executed in the\n",
              "      current browser session. Please rerun this cell to enable.\n",
              "      </output>\n",
              "      <script src=\"/nbextensions/google.colab/files.js\"></script> "
            ],
            "text/plain": [
              "<IPython.core.display.HTML object>"
            ]
          },
          "metadata": {
            "tags": []
          }
        },
        {
          "output_type": "stream",
          "text": [
            "Saving _data_loader_functions.py to _data_loader_functions.py\n",
            "Saving __init__.py to __init__.py\n",
            "Saving _tut_sed_synthetic_2016.py to _tut_sed_synthetic_2016.py\n",
            "uploading to experiments\n"
          ],
          "name": "stdout"
        },
        {
          "output_type": "display_data",
          "data": {
            "text/html": [
              "\n",
              "     <input type=\"file\" id=\"files-926cf132-819e-499e-b75a-1a7b8d99eb9d\" name=\"files[]\" multiple disabled\n",
              "        style=\"border:none\" />\n",
              "     <output id=\"result-926cf132-819e-499e-b75a-1a7b8d99eb9d\">\n",
              "      Upload widget is only available when the cell has been executed in the\n",
              "      current browser session. Please rerun this cell to enable.\n",
              "      </output>\n",
              "      <script src=\"/nbextensions/google.colab/files.js\"></script> "
            ],
            "text/plain": [
              "<IPython.core.display.HTML object>"
            ]
          },
          "metadata": {
            "tags": []
          }
        },
        {
          "output_type": "stream",
          "text": [
            "Saving experiment_process.py to experiment_process.py\n",
            "Saving __init__.py to __init__.py\n",
            "Saving _processes.py to _processes.py\n",
            "uploading to models\n"
          ],
          "name": "stdout"
        },
        {
          "output_type": "display_data",
          "data": {
            "text/html": [
              "\n",
              "     <input type=\"file\" id=\"files-2034fb4a-1c4f-4aa9-9ebf-f7b44e1ea515\" name=\"files[]\" multiple disabled\n",
              "        style=\"border:none\" />\n",
              "     <output id=\"result-2034fb4a-1c4f-4aa9-9ebf-f7b44e1ea515\">\n",
              "      Upload widget is only available when the cell has been executed in the\n",
              "      current browser session. Please rerun this cell to enable.\n",
              "      </output>\n",
              "      <script src=\"/nbextensions/google.colab/files.js\"></script> "
            ],
            "text/plain": [
              "<IPython.core.display.HTML object>"
            ]
          },
          "metadata": {
            "tags": []
          }
        },
        {
          "output_type": "stream",
          "text": [
            "Saving baseline_dilated.py to baseline_dilated.py\n",
            "Saving crnn.py to crnn.py\n",
            "Saving dessed.py to dessed.py\n",
            "Saving dessed_dilated.py to dessed_dilated.py\n",
            "Saving __init__.py to __init__.py\n",
            "uploading to settings\n"
          ],
          "name": "stdout"
        },
        {
          "output_type": "display_data",
          "data": {
            "text/html": [
              "\n",
              "     <input type=\"file\" id=\"files-684ad35e-74ab-4485-9c15-c98b878667e0\" name=\"files[]\" multiple disabled\n",
              "        style=\"border:none\" />\n",
              "     <output id=\"result-684ad35e-74ab-4485-9c15-c98b878667e0\">\n",
              "      Upload widget is only available when the cell has been executed in the\n",
              "      current browser session. Please rerun this cell to enable.\n",
              "      </output>\n",
              "      <script src=\"/nbextensions/google.colab/files.js\"></script> "
            ],
            "text/plain": [
              "<IPython.core.display.HTML object>"
            ]
          },
          "metadata": {
            "tags": []
          }
        },
        {
          "output_type": "stream",
          "text": [
            "Saving synthetic_2016_k_33_d_1_1.yaml to synthetic_2016_k_33_d_1_1.yaml\n",
            "Saving synthetic_2016_k_33_d_10_1.yaml to synthetic_2016_k_33_d_10_1.yaml\n",
            "Saving synthetic_2016_k_33_d_50_1.yaml to synthetic_2016_k_33_d_50_1.yaml\n",
            "Saving synthetic_2016_k_33_d_100_1.yaml to synthetic_2016_k_33_d_100_1.yaml\n",
            "Saving synthetic_2016_k_55_d_1_1.yaml to synthetic_2016_k_55_d_1_1.yaml\n",
            "Saving synthetic_2016_k_55_d_10_1.yaml to synthetic_2016_k_55_d_10_1.yaml\n",
            "Saving synthetic_2016_k_55_d_50_1.yaml to synthetic_2016_k_55_d_50_1.yaml\n",
            "Saving synthetic_2016_k_55_d_100_1.yaml to synthetic_2016_k_55_d_100_1.yaml\n",
            "Saving synthetic_2016_k_77_d_1_1.yaml to synthetic_2016_k_77_d_1_1.yaml\n",
            "Saving synthetic_2016_k_77_d_10_1.yaml to synthetic_2016_k_77_d_10_1.yaml\n",
            "Saving synthetic_2016_k_77_d_10_1_b.yaml to synthetic_2016_k_77_d_10_1_b.yaml\n",
            "Saving synthetic_2016_k_77_d_50_1.yaml to synthetic_2016_k_77_d_50_1.yaml\n",
            "Saving synthetic_2016_k_77_d_100_1.yaml to synthetic_2016_k_77_d_100_1.yaml\n",
            "uploading to tools\n"
          ],
          "name": "stdout"
        },
        {
          "output_type": "display_data",
          "data": {
            "text/html": [
              "\n",
              "     <input type=\"file\" id=\"files-04dd16d6-f589-4600-81d2-e0cc622d11c3\" name=\"files[]\" multiple disabled\n",
              "        style=\"border:none\" />\n",
              "     <output id=\"result-04dd16d6-f589-4600-81d2-e0cc622d11c3\">\n",
              "      Upload widget is only available when the cell has been executed in the\n",
              "      current browser session. Please rerun this cell to enable.\n",
              "      </output>\n",
              "      <script src=\"/nbextensions/google.colab/files.js\"></script> "
            ],
            "text/plain": [
              "<IPython.core.display.HTML object>"
            ]
          },
          "metadata": {
            "tags": []
          }
        },
        {
          "output_type": "stream",
          "text": [
            "Saving file_io.py to file_io.py\n",
            "Saving __init__.py to __init__.py\n",
            "Saving metrics.py to metrics.py\n",
            "Saving preprocess.py to preprocess.py\n",
            "Saving printing.py to printing.py\n",
            "Saving various.py to various.py\n",
            "Saving yaml_loader.py to yaml_loader.py\n"
          ],
          "name": "stdout"
        }
      ]
    },
    {
      "cell_type": "code",
      "metadata": {
        "colab": {
          "base_uri": "https://localhost:8080/"
        },
        "id": "e4IFd84RYE4R",
        "outputId": "7693f631-6d0b-4aea-c83f-93a0c748bd7e"
      },
      "source": [
        "!ls"
      ],
      "id": "e4IFd84RYE4R",
      "execution_count": null,
      "outputs": [
        {
          "output_type": "stream",
          "text": [
            "conda_dependencies.yml\tdata_raw     main.py\t\t   README.md\n",
            "data\t\t\texperiments  models\t\t   settings\n",
            "data_feeders\t\tLICENSE      pip_dependencies.txt  tools\n"
          ],
          "name": "stdout"
        }
      ]
    },
    {
      "cell_type": "code",
      "metadata": {
        "colab": {
          "base_uri": "https://localhost:8080/"
        },
        "id": "cwAdgDiVmBUq",
        "outputId": "018f6a48-fe04-4fa3-fccb-b558ae6d3c6a"
      },
      "source": [
        "# Change directory if needed\n",
        "%cd drive/MyDrive/Data_Code/"
      ],
      "id": "cwAdgDiVmBUq",
      "execution_count": null,
      "outputs": [
        {
          "output_type": "stream",
          "text": [
            "/content/drive/.shortcut-targets-by-id/1nC9alf1XXss0MliDJ7UIwgKnGiUiWn01/Data_Code\n"
          ],
          "name": "stdout"
        }
      ]
    },
    {
      "cell_type": "markdown",
      "metadata": {
        "id": "oak-TtClDxUI"
      },
      "source": [
        "**not working yet** *(3. CD TO drive/MyDrive/Data_Code/ (%cd drive/MyDrive/Data_Code/) IF FILES FROM DRIVE ARE USED)*"
      ],
      "id": "oak-TtClDxUI"
    },
    {
      "cell_type": "code",
      "metadata": {
        "id": "W0nD5iHdEREk"
      },
      "source": [
        "# %cd drive/MyDrive/Data_Code/"
      ],
      "id": "W0nD5iHdEREk",
      "execution_count": null,
      "outputs": []
    },
    {
      "cell_type": "markdown",
      "metadata": {
        "id": "o7E6EJBbGI6e"
      },
      "source": [
        "**not necessary at this point** *( 4. SET PATHS TO DATA )*"
      ],
      "id": "o7E6EJBbGI6e"
    },
    {
      "cell_type": "code",
      "metadata": {
        "colab": {
          "base_uri": "https://localhost:8080/",
          "height": 181
        },
        "id": "Hc85_czba2xJ",
        "outputId": "938eef08-6cf5-427f-ef97-d5de3a69f85d"
      },
      "source": [
        "# # set paths to data\n",
        "# train_data = './data/synthetic/training'\n",
        "# validata_data = './data/synthetic/validate'\n",
        "# test_data = './data/synthetic/test'"
      ],
      "id": "Hc85_czba2xJ",
      "execution_count": null,
      "outputs": [
        {
          "output_type": "error",
          "ename": "NameError",
          "evalue": "ignored",
          "traceback": [
            "\u001b[0;31m---------------------------------------------------------------------------\u001b[0m",
            "\u001b[0;31mNameError\u001b[0m                                 Traceback (most recent call last)",
            "\u001b[0;32m<ipython-input-1-82bf623ed2b8>\u001b[0m in \u001b[0;36m<module>\u001b[0;34m()\u001b[0m\n\u001b[1;32m      1\u001b[0m \u001b[0;31m# set paths to data\u001b[0m\u001b[0;34m\u001b[0m\u001b[0;34m\u001b[0m\u001b[0;34m\u001b[0m\u001b[0m\n\u001b[0;32m----> 2\u001b[0;31m \u001b[0mtrain_data\u001b[0m \u001b[0;34m=\u001b[0m \u001b[0mdrive\u001b[0m\u001b[0;34m/\u001b[0m\u001b[0mMyDrive\u001b[0m\u001b[0;34m/\u001b[0m\u001b[0mData_Code\u001b[0m\u001b[0;34m/\u001b[0m\u001b[0mdata\u001b[0m\u001b[0;34m/\u001b[0m\u001b[0msynthetic\u001b[0m\u001b[0;34m/\u001b[0m\u001b[0mtrain\u001b[0m\u001b[0;34m\u001b[0m\u001b[0;34m\u001b[0m\u001b[0m\n\u001b[0m",
            "\u001b[0;31mNameError\u001b[0m: name 'drive' is not defined"
          ]
        }
      ]
    },
    {
      "cell_type": "markdown",
      "metadata": {
        "id": "WrHyjM7mEgBU"
      },
      "source": [
        "**5. CHANGE PARAMS IF NECESSARY (MAKE SURE THAT setting_file CONTAINS CORRECT PATH TO DATA)**"
      ],
      "id": "WrHyjM7mEgBU"
    },
    {
      "cell_type": "code",
      "metadata": {
        "id": "e6915e9f"
      },
      "source": [
        "model_to_use = 'baseline'#@param {type:\"string\"}\n",
        "config_file = 'synthetic_2016_k_33_d_1_1'#@param {type: \"string\"}\n",
        "file_ext = '.yaml'#@param {type: \"string\"}\n",
        "settings_dir = './settings'#@param {type:\"string\"}\n"
      ],
      "id": "e6915e9f",
      "execution_count": 6,
      "outputs": []
    },
    {
      "cell_type": "markdown",
      "metadata": {
        "id": "_Aku477TlMrA"
      },
      "source": [
        "**6. START EXPERIMENTS**"
      ],
      "id": "_Aku477TlMrA"
    },
    {
      "cell_type": "code",
      "metadata": {
        "id": "d5682ed7"
      },
      "source": [
        "from pathlib import Path\n",
        "\n",
        "from experiments.experiment_process import do_process\n",
        "from tools.file_io import load_settings_file\n",
        "from tools.various import get_argument_parser\n",
        "from tools.printing import InformAboutProcess, date_and_time"
      ],
      "id": "d5682ed7",
      "execution_count": 7,
      "outputs": []
    },
    {
      "cell_type": "code",
      "metadata": {
        "colab": {
          "base_uri": "https://localhost:8080/"
        },
        "id": "PSY__o7PE-pI",
        "outputId": "0f775e36-6b7b-4872-c797-f568db4382c4"
      },
      "source": [
        "with InformAboutProcess('Loading settings'):\n",
        "        settings = load_settings_file(\n",
        "            file_name=Path(f'{config_file}{file_ext}'),\n",
        "            settings_dir=Path(settings_dir))\n",
        "\n",
        "do_process(\n",
        "    settings_path=None,\n",
        "    settings=settings,\n",
        "    model_to_use=model_to_use)"
      ],
      "id": "PSY__o7PE-pI",
      "execution_count": null,
      "outputs": [
        {
          "output_type": "stream",
          "text": [
            "-- Loading settings... done.\n",
            "\n",
            "-- Baseline experiment\n",
            "-- Starting experiment\n",
            "\n",
            "-- Creating the model... done.\n",
            "-- Creating training data loader... done.\n",
            "-- Creating validation data loader... done.\n",
            "-- Creating optimizer... done.\n",
            "\n",
            "-- Training examples/batches  :    60 /   60\n",
            "-- Validation examples/batches:    20 /   20\n",
            "\n",
            "-- DNN has 823552 parameters.\n",
            "-- RNN has 99072 parameters.\n",
            "-- Classifier has 2064 parameters.\n",
            "-- Module has 924688 parameters.\n",
            "\n",
            "-- Using device: `Tesla T4`.\n",
            "\n",
            "\n",
            "-- Starting training\n",
            "\n",
            "  -- Epoch:   0 | Loss (tr/va):  0.297/  0.249 | F1 (tr/va):  0.99/  0.99 | ER (tr/va):  0.99/  0.99 | Time: 472.62 sec.\n",
            "  -- Epoch:   1 | Loss (tr/va):  0.242/  0.240 | F1 (tr/va):  0.99/  0.99 | ER (tr/va):  0.99/  0.99 | Time: 468.48 sec.\n",
            "  -- Epoch:   2 | Loss (tr/va):  0.231/  0.232 | F1 (tr/va):  0.99/  0.99 | ER (tr/va):  0.99/  0.99 | Time: 466.88 sec.\n",
            "  -- Epoch:   3 | Loss (tr/va):  0.213/  0.228 | F1 (tr/va):  0.99/  0.99 | ER (tr/va):  0.99/  0.99 | Time: 468.43 sec.\n",
            "  -- Epoch:   4 | Loss (tr/va):  0.201/  0.206 | F1 (tr/va):  0.99/  0.99 | ER (tr/va):  0.99/  0.99 | Time: 469.83 sec.\n",
            "  -- Epoch:   5 | Loss (tr/va):  0.188/  0.192 | F1 (tr/va):  0.99/  0.99 | ER (tr/va):  0.99/  0.99 | Time: 469.07 sec.\n",
            "  -- Epoch:   6 | Loss (tr/va):  0.178/  0.189 | F1 (tr/va):  0.99/  0.99 | ER (tr/va):  0.99/  0.99 | Time: 466.51 sec.\n",
            "  -- Epoch:   7 | Loss (tr/va):  0.174/  0.196 | F1 (tr/va):  0.99/  0.99 | ER (tr/va):  0.99/  0.99 | Time: 465.89 sec.\n",
            "  -- Epoch:   8 | Loss (tr/va):  0.164/  0.191 | F1 (tr/va):  0.99/  0.99 | ER (tr/va):  0.99/  0.99 | Time: 465.11 sec.\n",
            "  -- Epoch:   9 | Loss (tr/va):  0.159/  0.185 | F1 (tr/va):  0.99/  0.99 | ER (tr/va):  0.99/  0.99 | Time: 463.20 sec.\n",
            "  -- Epoch:  10 | Loss (tr/va):  0.152/  0.182 | F1 (tr/va):  0.99/  0.99 | ER (tr/va):  0.99/  0.99 | Time: 467.06 sec.\n",
            "  -- Epoch:  11 | Loss (tr/va):  0.148/  0.176 | F1 (tr/va):  0.99/  0.99 | ER (tr/va):  0.99/  0.99 | Time: 466.79 sec.\n",
            "  -- Epoch:  12 | Loss (tr/va):  0.143/  0.186 | F1 (tr/va):  0.99/  0.99 | ER (tr/va):  0.99/  0.99 | Time: 461.90 sec.\n",
            "  -- Epoch:  13 | Loss (tr/va):  0.136/  0.176 | F1 (tr/va):  0.99/  0.99 | ER (tr/va):  0.99/  0.99 | Time: 460.18 sec.\n",
            "  -- Epoch:  14 | Loss (tr/va):  0.132/  0.175 | F1 (tr/va):  0.99/  0.99 | ER (tr/va):  0.99/  0.99 | Time: 460.32 sec.\n",
            "  -- Epoch:  15 | Loss (tr/va):  0.131/  0.194 | F1 (tr/va):  0.99/  0.99 | ER (tr/va):  0.99/  0.99 | Time: 459.50 sec.\n",
            "  -- Epoch:  16 | Loss (tr/va):  0.127/  0.181 | F1 (tr/va):  0.99/  0.99 | ER (tr/va):  0.99/  0.99 | Time: 458.53 sec.\n",
            "  -- Epoch:  17 | Loss (tr/va):  0.122/  0.164 | F1 (tr/va):  0.99/  0.99 | ER (tr/va):  0.99/  0.99 | Time: 459.04 sec.\n"
          ],
          "name": "stdout"
        }
      ]
    },
    {
      "cell_type": "code",
      "metadata": {
        "colab": {
          "base_uri": "https://localhost:8080/"
        },
        "id": "AaiGxxM5kj8a",
        "outputId": "81d8289a-8fbd-4f22-9975-7ef2daa2cb8a"
      },
      "source": [
        "!nvidia-smi"
      ],
      "id": "AaiGxxM5kj8a",
      "execution_count": null,
      "outputs": [
        {
          "output_type": "stream",
          "text": [
            "Tue Jun  8 12:21:42 2021       \n",
            "+-----------------------------------------------------------------------------+\n",
            "| NVIDIA-SMI 465.27       Driver Version: 460.32.03    CUDA Version: 11.2     |\n",
            "|-------------------------------+----------------------+----------------------+\n",
            "| GPU  Name        Persistence-M| Bus-Id        Disp.A | Volatile Uncorr. ECC |\n",
            "| Fan  Temp  Perf  Pwr:Usage/Cap|         Memory-Usage | GPU-Util  Compute M. |\n",
            "|                               |                      |               MIG M. |\n",
            "|===============================+======================+======================|\n",
            "|   0  Tesla P100-PCIE...  Off  | 00000000:00:04.0 Off |                    0 |\n",
            "| N/A   47C    P0    39W / 250W |  14959MiB / 16280MiB |      0%      Default |\n",
            "|                               |                      |                  N/A |\n",
            "+-------------------------------+----------------------+----------------------+\n",
            "                                                                               \n",
            "+-----------------------------------------------------------------------------+\n",
            "| Processes:                                                                  |\n",
            "|  GPU   GI   CI        PID   Type   Process name                  GPU Memory |\n",
            "|        ID   ID                                                   Usage      |\n",
            "|=============================================================================|\n",
            "+-----------------------------------------------------------------------------+\n"
          ],
          "name": "stdout"
        }
      ]
    },
    {
      "cell_type": "code",
      "metadata": {
        "id": "_l21aQsAE-xF"
      },
      "source": [
        "!kill "
      ],
      "id": "_l21aQsAE-xF",
      "execution_count": null,
      "outputs": []
    },
    {
      "cell_type": "code",
      "metadata": {
        "id": "u74XNqxoE_aZ"
      },
      "source": [
        ""
      ],
      "id": "u74XNqxoE_aZ",
      "execution_count": null,
      "outputs": []
    }
  ]
}